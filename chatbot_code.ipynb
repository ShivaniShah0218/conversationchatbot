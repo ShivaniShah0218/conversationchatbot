{
 "cells": [
  {
   "cell_type": "markdown",
   "id": "2868ef29",
   "metadata": {},
   "source": [
    "Reading the Documents and creating the chunks of text"
   ]
  },
  {
   "cell_type": "code",
   "execution_count": 22,
   "id": "ccb35281",
   "metadata": {},
   "outputs": [],
   "source": [
    "import numpy as np\n",
    "import PyPDF2"
   ]
  },
  {
   "cell_type": "code",
   "execution_count": 23,
   "id": "eaaf052c",
   "metadata": {},
   "outputs": [],
   "source": [
    "def load_pdf(path):\n",
    "    \"\"\"\n",
    "        Purpose: Loading the pdf file\n",
    "        Input: Path\n",
    "        Output: Returns the text of all pages concatenated in a string\n",
    "    \"\"\"\n",
    "    text=\"\"\n",
    "    with open(path,\"rb\") as f:\n",
    "        reader=PyPDF2.PdfReader(f)\n",
    "        for page in reader.pages:\n",
    "            text+=page.extract_text()\n",
    "    return text"
   ]
  },
  {
   "cell_type": "code",
   "execution_count": null,
   "id": "23619707",
   "metadata": {},
   "outputs": [],
   "source": [
    "pdf_path=input(\"Provide path to the pdf document\")\n",
    "#Load PDF\n",
    "doc_text=load_pdf(pdf_path)"
   ]
  },
  {
   "cell_type": "code",
   "execution_count": 24,
   "id": "821f86d7",
   "metadata": {},
   "outputs": [],
   "source": [
    "def chunk_text(text,max_len=200):\n",
    "    \"\"\"\n",
    "        Purpose: Splits the text into chunks\n",
    "        Input: String of Text, maximum length of a chunk\n",
    "        Output: Returns a list of chunks\n",
    "    \"\"\"\n",
    "    sentences=text.split(\".\")\n",
    "    chunks,chunk=[],\"\"\n",
    "    for sentence in sentences:\n",
    "        if len(chunk)+len(sentence)<max_len:\n",
    "            chunk+=sentence+\".\"\n",
    "        else:\n",
    "            chunks.append(chunk.strip())\n",
    "            chunk=sentence+\".\"\n",
    "    if chunk:\n",
    "        chunks.append(chunk.strip())\n",
    "    return chunks"
   ]
  },
  {
   "cell_type": "code",
   "execution_count": null,
   "id": "4f411ef8",
   "metadata": {},
   "outputs": [],
   "source": [
    "chunks=chunk_text(doc_text)"
   ]
  },
  {
   "cell_type": "markdown",
   "id": "66206213",
   "metadata": {},
   "source": [
    "Creating Sentence Embeddings"
   ]
  },
  {
   "cell_type": "code",
   "execution_count": null,
   "id": "a162a148",
   "metadata": {},
   "outputs": [],
   "source": [
    "from sentence_transformers import SentenceTransformer\n",
    "model=SentenceTransformer(\"all-MiniLM-L6-v2\")\n"
   ]
  },
  {
   "cell_type": "code",
   "execution_count": null,
   "id": "0dca1ba7",
   "metadata": {},
   "outputs": [],
   "source": [
    "embeddings=model.encode(chunks,convert_to_numpy=True)"
   ]
  },
  {
   "cell_type": "markdown",
   "id": "f6223cf6",
   "metadata": {},
   "source": [
    "Saving the embeddings in the vector store"
   ]
  },
  {
   "cell_type": "code",
   "execution_count": null,
   "id": "2c8f8d26",
   "metadata": {},
   "outputs": [],
   "source": [
    "import faiss\n",
    "dimension=embeddings.shape[1]\n",
    "index=faiss.IndexFlatL2(dimension)\n",
    "index.add(embeddings)"
   ]
  },
  {
   "cell_type": "markdown",
   "id": "3e875f4a",
   "metadata": {},
   "source": [
    "Create system for getting the Document Reference for the user input "
   ]
  },
  {
   "cell_type": "code",
   "execution_count": null,
   "id": "c36a6dd0",
   "metadata": {},
   "outputs": [],
   "source": [
    "def search(query,top_k=3):\n",
    "    \"\"\"\n",
    "        Purpose: Search the sentence embeddings of the document and return the top_k similar search\n",
    "        Input: Query of the user, top k documents\n",
    "        Output: Returns the most similar chunks to the text\n",
    "    \"\"\"\n",
    "    query_embedding=model.encode([query])\n",
    "    distances,indices=index.search(np.array(query_embedding),top_k)\n",
    "    return [chunks[i] for i in indices[0]]"
   ]
  },
  {
   "cell_type": "code",
   "execution_count": 25,
   "id": "fd519e31",
   "metadata": {},
   "outputs": [],
   "source": [
    "def generate_answer(query):\n",
    "    \"\"\"\n",
    "        Purpose: Generates the answer to the query of the user\n",
    "        Input: Query string of the user\n",
    "        Output: Returns the most relevant chunk to the query of the user\n",
    "    \"\"\"\n",
    "    top_docs=search(query)\n",
    "    context=\"\\n\".join(top_docs)\n",
    "    return context"
   ]
  },
  {
   "cell_type": "code",
   "execution_count": null,
   "id": "da7733e9",
   "metadata": {},
   "outputs": [],
   "source": [
    "#A continuous loop\n",
    "while True:\n",
    "    #Takes input from the user\n",
    "    user_input=input(\">>You:\")\n",
    "    #Add the stop condition for the conversation\n",
    "    if user_input.lower()==\"bye\":\n",
    "        break\n",
    "    print(\">>You: \",user_input)\n",
    "    bot_response=generate_answer(user_input)\n",
    "    print(\">>Bot: \",bot_response)"
   ]
  }
 ],
 "metadata": {
  "kernelspec": {
   "display_name": "base",
   "language": "python",
   "name": "python3"
  },
  "language_info": {
   "codemirror_mode": {
    "name": "ipython",
    "version": 3
   },
   "file_extension": ".py",
   "mimetype": "text/x-python",
   "name": "python",
   "nbconvert_exporter": "python",
   "pygments_lexer": "ipython3",
   "version": "3.8.8"
  }
 },
 "nbformat": 4,
 "nbformat_minor": 5
}
